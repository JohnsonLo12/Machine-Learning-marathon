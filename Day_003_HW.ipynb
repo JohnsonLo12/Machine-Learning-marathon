{
 "cells": [
  {
   "cell_type": "markdown",
   "metadata": {},
   "source": [
    "## [作業目標]\n",
    "持續接觸有關機器學習的相關專案與最新技術"
   ]
  },
  {
   "cell_type": "markdown",
   "metadata": {},
   "source": [
    "## [作業重點]\n",
    "透過觀察頂尖公司的機器學習文章，來了解各公司是怎麼應用機器學習在實際的專案上"
   ]
  },
  {
   "cell_type": "markdown",
   "metadata": {},
   "source": [
    "## [作業]\n",
    "今天的作業希望大家能夠看看全球機器學習巨頭們在做的機器學習專案。以 google 為例，下圖是 Google 內部專案使用機器學習的數量，隨著時間進展，現在早已超過 2000 個專案在使用機器學習。"
   ]
  },
  {
   "cell_type": "markdown",
   "metadata": {},
   "source": [
    "![image](https://cdn-images-1.medium.com/max/800/1*U_L8qI8RmYS-MOBrYvXhSA.png)"
   ]
  },
  {
   "cell_type": "markdown",
   "metadata": {},
   "source": [
    "底下幫同學整理幾間知名企業的 blog 或機器學習網站 (自行搜尋也可)，這些網站都會整理最新的機器學習專案或者是技術文章，請挑選一篇文章閱讀並試著回答\n",
    "1. 專案的目標？ (要解決什麼問題）\n",
    "2. 使用的技術是？ (只需知道名稱即可，例如：使用 CNN 卷積神經網路做影像分類)\n",
    "3. 資料來源？ "
   ]
  },
  {
   "cell_type": "markdown",
   "metadata": {},
   "source": [
    "- [Google AI blog](https://ai.googleblog.com/)\n",
    "- [Facebook Research blog](https://research.fb.com/blog/)\n",
    "- [Apple machine learning journal](https://machinelearning.apple.com/)\n",
    "- [機器之心](https://www.jiqizhixin.com/)\n",
    "- [雷鋒網](http://www.leiphone.com/category/ai)"
   ]
  },
  {
   "cell_type": "markdown",
   "metadata": {},
   "source": [
    "# 選定對象: 雷鋒網 (https://www.yanxishe.com/TextTranslation/1045)\n",
    "# 選定主題: 如何用Anchors来为你的模型可解释性立足 (Anchor your Model Interpretation by Anchors)\n",
    "# 發佈日期: 2020-09-03 10:44:13\n",
    "# 專案目標: \n",
    "- 模型释义性意味着提过模型背后的原理和逻辑，使得模型更可靠、更透明。而LIME的作者提到在某些场景下，不能正确的解释模型，因此為了更有效的解決模型的解釋力，而提出了新的方法。\n",
    "\n",
    "# 使用方法: Anchors\n",
    "- 通过学习分界线（或者说分界线的斜率）LIME尝试解释预测的结果。然而与LIME不同，Anchors使用局部区域来学习如何解释模型。这里的局部区域是指一个对于可解释来说，更好的生成数据集。有两种方法可以用来发现锚点（anchors）。第一种是自下而上的方法，该方法的优势是简单，但需要更多的计算时间。第二种是束搜索的方法，这种方法被集成在Anchors工具包中。自下而上的构建方法，从一个空集合开始。在每个迭代的过程中，该方法会产生一个新特征的候选集，并且每次迭代只会从该特征候选集里，选一个添加到整个预测特征集合中。如果特征所组成的规则，达到了论文中公式3所示的精度和标准，算法终止。因为作者发现，较短的anchors通常倾向于有更大的覆盖率，所以上述算法的目标是发现最短的anchor。从直觉上讲，上述方法存在两个主要的问题。第一，每次迭代智能添加一个特征。第二，贪心算法的主要目标是寻找最短路径。\n",
    "\n",
    "# 資料來源: 該篇文章中並未詳述資料為何。 "
   ]
  },
  {
   "cell_type": "code",
   "execution_count": null,
   "metadata": {},
   "outputs": [],
   "source": []
  }
 ],
 "metadata": {
  "kernelspec": {
   "display_name": "Python 3",
   "language": "python",
   "name": "python3"
  },
  "language_info": {
   "codemirror_mode": {
    "name": "ipython",
    "version": 3
   },
   "file_extension": ".py",
   "mimetype": "text/x-python",
   "name": "python",
   "nbconvert_exporter": "python",
   "pygments_lexer": "ipython3",
   "version": "3.8.1"
  }
 },
 "nbformat": 4,
 "nbformat_minor": 4
}
