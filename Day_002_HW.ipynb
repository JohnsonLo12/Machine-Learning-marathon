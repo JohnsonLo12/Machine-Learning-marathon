{
 "cells": [
  {
   "cell_type": "markdown",
   "metadata": {},
   "source": [
    "## [作業目標]\n",
    "了解機器學習適合應用的領域與範疇。"
   ]
  },
  {
   "cell_type": "markdown",
   "metadata": {},
   "source": [
    "## [作業重點]\n",
    "透過瞭解機器學習的運作方式，找出非常適用機器學習應用的領域及其原因"
   ]
  },
  {
   "cell_type": "markdown",
   "metadata": {},
   "source": [
    "## 作業\n",
    "請找出一個你認為機器學習可以發光發熱的領域並闡述原因? "
   ]
  },
  {
   "cell_type": "markdown",
   "metadata": {},
   "source": [
    "# 期貨及金融商品之交易(trading)\n",
    "- 監督式學習在金融交易上可能較無準確度,概因商品價格走勢並非一個僅靠迴歸分析即可做線性預測的對象\n",
    "- 非監督式學習甚至強化學習應該才是金融交易的主軸應用\n",
    "- AI交易的不同地方在於：給AI一個目標環境(比如台指期指數)，由AI交易透過機器非監督式競爭學習，機器智慧判斷什麼時機策略下單或停利賣出。機器學習在AI交易上突破就是用新型態非監督式學習，透過數據辨識特徵制定策略(比如黃金交叉為偏多特徵)，讓AI透過二十年共四億多筆交易紀錄回測學習，AI機器人就能找出高獲利賺錢模式，透過高頻運算取得瞬間優勢。"
   ]
  },
  {
   "cell_type": "code",
   "execution_count": null,
   "metadata": {},
   "outputs": [],
   "source": []
  }
 ],
 "metadata": {
  "kernelspec": {
   "display_name": "Python 3",
   "language": "python",
   "name": "python3"
  },
  "language_info": {
   "codemirror_mode": {
    "name": "ipython",
    "version": 3
   },
   "file_extension": ".py",
   "mimetype": "text/x-python",
   "name": "python",
   "nbconvert_exporter": "python",
   "pygments_lexer": "ipython3",
   "version": "3.8.1"
  }
 },
 "nbformat": 4,
 "nbformat_minor": 4
}
